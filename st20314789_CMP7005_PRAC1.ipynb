{
 "cells": [
  {
   "cell_type": "markdown",
   "id": "5c623e9a",
   "metadata": {},
   "source": [
    "# Data Analysis dashboard"
   ]
  },
  {
   "cell_type": "markdown",
   "id": "26e24921",
   "metadata": {},
   "source": [
    "### Note: Please look at the native python files starting with introduction.py for a more properly structured implementation."
   ]
  },
  {
   "cell_type": "code",
   "execution_count": 2,
   "id": "045e1526",
   "metadata": {},
   "outputs": [],
   "source": [
    "import streamlit as st\n",
    "import pandas as pd\n",
    "import numpy as np\n",
    "import os\n",
    "import glob\n",
    "import plotly.express as px\n",
    "import plotly.graph_objects as go\n",
    "import seaborn as sns\n",
    "import matplotlib.pyplot as plt"
   ]
  },
  {
   "cell_type": "code",
   "execution_count": null,
   "id": "47760614",
   "metadata": {},
   "outputs": [],
   "source": []
  }
 ],
 "metadata": {
  "kernelspec": {
   "display_name": "Python 3",
   "language": "python",
   "name": "python3"
  },
  "language_info": {
   "codemirror_mode": {
    "name": "ipython",
    "version": 3
   },
   "file_extension": ".py",
   "mimetype": "text/x-python",
   "name": "python",
   "nbconvert_exporter": "python",
   "pygments_lexer": "ipython3",
   "version": "3.12.10"
  }
 },
 "nbformat": 4,
 "nbformat_minor": 5
}
